{
 "cells": [
  {
   "cell_type": "code",
   "execution_count": 22,
   "metadata": {},
   "outputs": [],
   "source": [
    "import scipy\n",
    "import numpy as np\n",
    "import pandas as pd"
   ]
  },
  {
   "cell_type": "code",
   "execution_count": 221,
   "metadata": {},
   "outputs": [],
   "source": [
    "pos_x = np.random.randint(0, 1500, size = 200)\n",
    "pos_y = np.random.randint(0, 500, size = 200)"
   ]
  },
  {
   "cell_type": "code",
   "execution_count": 222,
   "metadata": {},
   "outputs": [
    {
     "data": {
      "text/html": [
       "<div>\n",
       "<style scoped>\n",
       "    .dataframe tbody tr th:only-of-type {\n",
       "        vertical-align: middle;\n",
       "    }\n",
       "\n",
       "    .dataframe tbody tr th {\n",
       "        vertical-align: top;\n",
       "    }\n",
       "\n",
       "    .dataframe thead th {\n",
       "        text-align: right;\n",
       "    }\n",
       "</style>\n",
       "<table border=\"1\" class=\"dataframe\">\n",
       "  <thead>\n",
       "    <tr style=\"text-align: right;\">\n",
       "      <th></th>\n",
       "      <th>pos_x</th>\n",
       "      <th>pos_y</th>\n",
       "    </tr>\n",
       "  </thead>\n",
       "  <tbody>\n",
       "    <tr>\n",
       "      <td>124</td>\n",
       "      <td>6</td>\n",
       "      <td>186</td>\n",
       "    </tr>\n",
       "    <tr>\n",
       "      <td>194</td>\n",
       "      <td>7</td>\n",
       "      <td>109</td>\n",
       "    </tr>\n",
       "    <tr>\n",
       "      <td>196</td>\n",
       "      <td>13</td>\n",
       "      <td>47</td>\n",
       "    </tr>\n",
       "    <tr>\n",
       "      <td>25</td>\n",
       "      <td>25</td>\n",
       "      <td>473</td>\n",
       "    </tr>\n",
       "    <tr>\n",
       "      <td>49</td>\n",
       "      <td>26</td>\n",
       "      <td>225</td>\n",
       "    </tr>\n",
       "    <tr>\n",
       "      <td>...</td>\n",
       "      <td>...</td>\n",
       "      <td>...</td>\n",
       "    </tr>\n",
       "    <tr>\n",
       "      <td>152</td>\n",
       "      <td>1479</td>\n",
       "      <td>229</td>\n",
       "    </tr>\n",
       "    <tr>\n",
       "      <td>161</td>\n",
       "      <td>1480</td>\n",
       "      <td>143</td>\n",
       "    </tr>\n",
       "    <tr>\n",
       "      <td>185</td>\n",
       "      <td>1486</td>\n",
       "      <td>126</td>\n",
       "    </tr>\n",
       "    <tr>\n",
       "      <td>57</td>\n",
       "      <td>1489</td>\n",
       "      <td>123</td>\n",
       "    </tr>\n",
       "    <tr>\n",
       "      <td>38</td>\n",
       "      <td>1495</td>\n",
       "      <td>208</td>\n",
       "    </tr>\n",
       "  </tbody>\n",
       "</table>\n",
       "<p>200 rows × 2 columns</p>\n",
       "</div>"
      ],
      "text/plain": [
       "     pos_x  pos_y\n",
       "124      6    186\n",
       "194      7    109\n",
       "196     13     47\n",
       "25      25    473\n",
       "49      26    225\n",
       "..     ...    ...\n",
       "152   1479    229\n",
       "161   1480    143\n",
       "185   1486    126\n",
       "57    1489    123\n",
       "38    1495    208\n",
       "\n",
       "[200 rows x 2 columns]"
      ]
     },
     "execution_count": 222,
     "metadata": {},
     "output_type": "execute_result"
    }
   ],
   "source": [
    "df = pd.DataFrame({'pos_x':pos_x, 'pos_y':pos_y})\n",
    "df = df.sort_values(by=['pos_x'])\n",
    "df"
   ]
  },
  {
   "cell_type": "code",
   "execution_count": 223,
   "metadata": {},
   "outputs": [
    {
     "data": {
      "text/plain": [
       "[6, 306]"
      ]
     },
     "execution_count": 223,
     "metadata": {},
     "output_type": "execute_result"
    }
   ],
   "source": [
    "def interval_distance(df, Min_Max=True):\n",
    "    if Min_Max and len(df)>0:\n",
    "        start = min(df['pos_x'])\n",
    "    elif len(df)>0:\n",
    "        start = max(df['pos_x'])\n",
    "    else:\n",
    "        start = 0\n",
    "    end = start + 300\n",
    "    return start, end\n",
    "\n",
    "# defect_list = [start, end] #一開始 瑕疵區間為 [start, end], defect_list = [interval_distance(df, Min_Max=True)]\n",
    "# start, end = interval_distance(df, Min_Max=True)\n",
    "# defect_list = [start, end]\n",
    "# init_defect_list =  [start, end]\n",
    "# defect_list "
   ]
  },
  {
   "cell_type": "code",
   "execution_count": 224,
   "metadata": {},
   "outputs": [],
   "source": [
    "def check_defect_interval(df, start, end, defect_list):\n",
    "    df_temp = df[(df.loc[:,'pos_x'] < end) & (df.loc[:,'pos_x'] >= start)]\n",
    "    defect_index = list(df_temp.index)\n",
    "    \n",
    "    if len(defect_index) >= 3:\n",
    "        df = df.drop(defect_index[:-1])\n",
    "        new_start, new_end = interval_distance(df_temp, Min_Max=False)\n",
    "        print('new{0}'.format(new_start))\n",
    "        \n",
    "        defect_list[1] = new_start\n",
    "        last = 1\n",
    "\n",
    "    else:\n",
    "        if len(df)>0:\n",
    "            df = df.drop(df.loc[:, 'pos_x'].index[0])\n",
    "        new_start, new_end = interval_distance(df, Min_Max=True)\n",
    "        last = 0\n",
    "            \n",
    "    return df, new_start, new_end, defect_list, last"
   ]
  },
  {
   "cell_type": "code",
   "execution_count": 225,
   "metadata": {},
   "outputs": [
    {
     "name": "stdout",
     "output_type": "stream",
     "text": [
      "     pos_x  pos_y\n",
      "124      6    186\n",
      "194      7    109\n",
      "196     13     47\n",
      "25      25    473\n",
      "49      26    225\n",
      "..     ...    ...\n",
      "152   1479    229\n",
      "161   1480    143\n",
      "185   1486    126\n",
      "57    1489    123\n",
      "38    1495    208\n",
      "\n",
      "[200 rows x 2 columns]\n",
      "start6\n",
      "new294\n",
      "[6, 294]\n",
      "start294\n",
      "new589\n",
      "[6, 589]\n",
      "start589\n",
      "new871\n",
      "[6, 871]\n",
      "start871\n",
      "new1167\n",
      "[6, 1167]\n",
      "start1167\n",
      "new1465\n",
      "[6, 1465]\n",
      "start1465\n",
      "new1495\n",
      "[6, 1495]\n",
      "start1495\n",
      "[6, 1495]\n"
     ]
    }
   ],
   "source": [
    "out_put_defect_list = []\n",
    "while len(df)> 0:\n",
    "    \n",
    "    print(df)\n",
    "    \n",
    "    start, end = interval_distance(df, Min_Max=True)\n",
    "    defect_list = [start, end]\n",
    "    init_defect_list =  [start, end]\n",
    "    last = 1\n",
    "    \n",
    "    while last != 0:\n",
    "        print('start{}'.format(start))\n",
    "        df, start, end, defect_list, last = check_defect_interval(df, start, end, defect_list)\n",
    "        print (defect_list)\n",
    "        \n",
    "    \n",
    "    if defect_list != init_defect_list:\n",
    "        out_put_defect_list.append(defect_list)\n",
    "    "
   ]
  }
 ],
 "metadata": {
  "kernelspec": {
   "display_name": "Python 3",
   "language": "python",
   "name": "python3"
  },
  "language_info": {
   "codemirror_mode": {
    "name": "ipython",
    "version": 3
   },
   "file_extension": ".py",
   "mimetype": "text/x-python",
   "name": "python",
   "nbconvert_exporter": "python",
   "pygments_lexer": "ipython3",
   "version": "3.7.4"
  }
 },
 "nbformat": 4,
 "nbformat_minor": 2
}
